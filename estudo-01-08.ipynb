{
 "cells": [
  {
   "cell_type": "code",
   "execution_count": 4,
   "metadata": {},
   "outputs": [
    {
     "name": "stdout",
     "output_type": "stream",
     "text": [
      "Index(['work_year', 'job_title', 'job_category', 'salary_currency', 'salary',\n",
      "       'salary_in_usd', 'employee_residence', 'experience_level',\n",
      "       'employment_type', 'work_setting', 'company_location', 'company_size'],\n",
      "      dtype='object')\n"
     ]
    }
   ],
   "source": [
    "# listando os campos de um dataframe\n",
    "\n",
    "import pandas as pd\n",
    "\n",
    "df = pd.read_csv('./database/jobs-and-salaries-in-data-science/jobs_in_data.csv')\n",
    "\n",
    "print(df.columns)"
   ]
  },
  {
   "cell_type": "code",
   "execution_count": 12,
   "metadata": {},
   "outputs": [
    {
     "name": "stdout",
     "output_type": "stream",
     "text": [
      "[2023 2022 2020 2021]\n",
      "<class 'numpy.ndarray'>\n",
      "\n",
      "2023\n",
      "2022\n",
      "2020\n",
      "2021\n",
      "<class 'numpy.int64'>\n",
      "\n",
      "   work_year_unique\n",
      "0              2023\n",
      "1              2022\n",
      "2              2020\n",
      "3              2021\n",
      "<class 'pandas.core.frame.DataFrame'>\n"
     ]
    }
   ],
   "source": [
    "# imprimindo os valores distintos\n",
    "\n",
    "work_year_unique = df['work_year'].unique()\n",
    "\n",
    "print(work_year_unique) # simplesmente imprimindo as variáveis em um ndarray\n",
    "print(type(work_year_unique)) # confirmando o tipo\n",
    "\n",
    "print('') # para imprimir uma linha em branco. poderia ser apenas print()\n",
    "\n",
    "for year in work_year_unique: # para imprimir n vezes cada registro \n",
    "    print(year)\n",
    "\n",
    "print(type(year))\n",
    "\n",
    "print('') # para imprimir uma linha em branco. poderia ser apenas print()\n",
    "\n",
    "work_year_unique_df = pd.DataFrame({'work_year_unique':work_year_unique}) # para imprimir em um dataframe\n",
    "print(work_year_unique_df)\n",
    "print(type(work_year_unique_df))"
   ]
  },
  {
   "cell_type": "code",
   "execution_count": 16,
   "metadata": {},
   "outputs": [
    {
     "name": "stdout",
     "output_type": "stream",
     "text": [
      "work_year\n",
      "2020       7577809\n",
      "2021      21531519\n",
      "2022     220520034\n",
      "2023    1152946903\n",
      "Name: salary, dtype: int64\n",
      "<class 'pandas.core.series.Series'>\n",
      "\n",
      "   work_year      salary\n",
      "0       2020     7577809\n",
      "1       2021    21531519\n",
      "2       2022   220520034\n",
      "3       2023  1152946903\n",
      "<class 'pandas.core.frame.DataFrame'>\n"
     ]
    }
   ],
   "source": [
    "# funções de agregação\n",
    "\n",
    "soma_salario_ano = df.groupby('work_year')['salary'].sum() # somar a quantidade de 'salary' por ano, retornando uma série\n",
    "print(soma_salario_ano)\n",
    "print(type(soma_salario_ano))\n",
    "\n",
    "print('')\n",
    "\n",
    "soma_salario_ano_df = df.groupby('work_year')['salary'].sum().reset_index() # somar a quantidade de 'salary' por ano, retornando um dataframe\n",
    "print(soma_salario_ano_df)\n",
    "print(type(soma_salario_ano_df))"
   ]
  }
 ],
 "metadata": {
  "kernelspec": {
   "display_name": "Python 3",
   "language": "python",
   "name": "python3"
  },
  "language_info": {
   "codemirror_mode": {
    "name": "ipython",
    "version": 3
   },
   "file_extension": ".py",
   "mimetype": "text/x-python",
   "name": "python",
   "nbconvert_exporter": "python",
   "pygments_lexer": "ipython3",
   "version": "3.9.6"
  }
 },
 "nbformat": 4,
 "nbformat_minor": 2
}
