{
 "cells": [
  {
   "cell_type": "code",
   "execution_count": 1,
   "metadata": {},
   "outputs": [
    {
     "name": "stdout",
     "output_type": "stream",
     "text": [
      "Index(['work_year', 'job_title', 'job_category', 'salary_currency', 'salary',\n",
      "       'salary_in_usd', 'employee_residence', 'experience_level',\n",
      "       'employment_type', 'work_setting', 'company_location', 'company_size'],\n",
      "      dtype='object')\n",
      "\n",
      "112260\n",
      "\n",
      "   work_year             job_title                    job_category  \\\n",
      "0       2023  Data DevOps Engineer                Data Engineering   \n",
      "1       2023        Data Architect  Data Architecture and Modeling   \n",
      "2       2023        Data Architect  Data Architecture and Modeling   \n",
      "3       2023        Data Scientist       Data Science and Research   \n",
      "4       2023        Data Scientist       Data Science and Research   \n",
      "\n",
      "  salary_currency  salary  salary_in_usd employee_residence experience_level  \\\n",
      "0             EUR   88000          95012            Germany        Mid-level   \n",
      "1             USD  186000         186000      United States           Senior   \n",
      "2             USD   81800          81800      United States           Senior   \n",
      "3             USD  212000         212000      United States           Senior   \n",
      "4             USD   93300          93300      United States           Senior   \n",
      "\n",
      "  employment_type work_setting company_location company_size  \n",
      "0       Full-time       Hybrid          Germany            L  \n",
      "1       Full-time    In-person    United States            M  \n",
      "2       Full-time    In-person    United States            M  \n",
      "3       Full-time    In-person    United States            M  \n",
      "4       Full-time    In-person    United States            M  \n"
     ]
    }
   ],
   "source": [
    "# reforçando o que foi aprendido - importar dados\n",
    "\n",
    "import pandas as pd\n",
    "\n",
    "df = pd.read_csv(r'C:\\Users\\luizs\\Documents\\Python\\estudos\\diario\\databases\\jobs-and-salaries-in-data-science\\jobs_in_data.csv')\n",
    "\n",
    "print(df.columns)\n",
    "\n",
    "print()\n",
    "\n",
    "print(df.size)\n",
    "\n",
    "print()\n",
    "\n",
    "print(df.head())"
   ]
  },
  {
   "cell_type": "code",
   "execution_count": 2,
   "metadata": {},
   "outputs": [
    {
     "name": "stdout",
     "output_type": "stream",
     "text": [
      "   work_year\n",
      "0       2023\n",
      "1       2022\n",
      "2       2020\n",
      "3       2021\n"
     ]
    }
   ],
   "source": [
    "# reforçando o que foi aprendido - distintos\n",
    "\n",
    "work_year_unique = pd.DataFrame({'work_year': df['work_year'].unique()})\n",
    "\n",
    "print(work_year_unique)"
   ]
  },
  {
   "cell_type": "code",
   "execution_count": 3,
   "metadata": {},
   "outputs": [
    {
     "name": "stdout",
     "output_type": "stream",
     "text": [
      "   work_year      salary\n",
      "0       2020     7577809\n",
      "1       2021    21531519\n",
      "2       2022   220520034\n",
      "3       2023  1152946903\n",
      "\n",
      "   work_year      salary\n",
      "0       2020     7577809\n",
      "1       2021    21531519\n",
      "2       2022   220520034\n",
      "3       2023  1152946903\n"
     ]
    }
   ],
   "source": [
    "# reforçando o que foi aprendido - funções de agregação\n",
    "\n",
    "sum_salary_year = df.groupby('work_year')['salary'].sum().reset_index()\n",
    "\n",
    "print(sum_salary_year)\n",
    "\n",
    "print()\n",
    "\n",
    "mean_salary_year = df.groupby('work_year')['salary'].mean().reset_index()\n",
    "\n",
    "print(sum_salary_year)"
   ]
  },
  {
   "cell_type": "code",
   "execution_count": 9,
   "metadata": {},
   "outputs": [
    {
     "data": {
      "image/png": "[encoded data removed]",
      "text/plain": [
       "<Figure size 640x480 with 2 Axes>"
      ]
     },
     "metadata": {},
     "output_type": "display_data"
    }
   ],
   "source": [
    "# reforçando o que foi aprendido - gráficos\n",
    "\n",
    "import matplotlib.pyplot as plt\n",
    "\n",
    "ax1 = plt.subplot()\n",
    "ax2 = ax1.twinx()\n",
    "\n",
    "ax1.plot(\n",
    "    sum_salary_year['work_year'], sum_salary_year['salary']\n",
    "    , color = 'green'\n",
    ")\n",
    "ax2.bar(mean_salary_year['work_year'], sum_salary_year['salary'],)\n",
    "plt.xlabel = 'year'\n",
    "plt.ylabel = 'salary'\n",
    "plt.show()"
   ]
  }
 ],
 "metadata": {
  "kernelspec": {
   "display_name": "Python 3",
   "language": "python",
   "name": "python3"
  },
  "language_info": {
   "codemirror_mode": {
    "name": "ipython",
    "version": 3
   },
   "file_extension": ".py",
   "mimetype": "text/x-python",
   "name": "python",
   "nbconvert_exporter": "python",
   "pygments_lexer": "ipython3",
   "version": "3.9.6"
  }
 },
 "nbformat": 4,
 "nbformat_minor": 2
}
