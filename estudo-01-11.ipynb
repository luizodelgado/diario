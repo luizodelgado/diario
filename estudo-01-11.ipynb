{
 "cells": [
  {
   "cell_type": "code",
   "execution_count": 1,
   "metadata": {},
   "outputs": [
    {
     "name": "stdout",
     "output_type": "stream",
     "text": [
      "Index(['work_year', 'job_title', 'job_category', 'salary_currency', 'salary',\n",
      "       'salary_in_usd', 'employee_residence', 'experience_level',\n",
      "       'employment_type', 'work_setting', 'company_location', 'company_size'],\n",
      "      dtype='object')\n",
      "\n",
      "   work_year             job_title                    job_category  \\\n",
      "0       2023  Data DevOps Engineer                Data Engineering   \n",
      "1       2023        Data Architect  Data Architecture and Modeling   \n",
      "2       2023        Data Architect  Data Architecture and Modeling   \n",
      "3       2023        Data Scientist       Data Science and Research   \n",
      "4       2023        Data Scientist       Data Science and Research   \n",
      "\n",
      "  salary_currency  salary  salary_in_usd employee_residence experience_level  \\\n",
      "0             EUR   88000          95012            Germany        Mid-level   \n",
      "1             USD  186000         186000      United States           Senior   \n",
      "2             USD   81800          81800      United States           Senior   \n",
      "3             USD  212000         212000      United States           Senior   \n",
      "4             USD   93300          93300      United States           Senior   \n",
      "\n",
      "  employment_type work_setting company_location company_size  \n",
      "0       Full-time       Hybrid          Germany            L  \n",
      "1       Full-time    In-person    United States            M  \n",
      "2       Full-time    In-person    United States            M  \n",
      "3       Full-time    In-person    United States            M  \n",
      "4       Full-time    In-person    United States            M  \n",
      "\n",
      "      work_year                 job_title                    job_category  \\\n",
      "0          2023      Data DevOps Engineer                Data Engineering   \n",
      "1          2023            Data Architect  Data Architecture and Modeling   \n",
      "2          2023            Data Architect  Data Architecture and Modeling   \n",
      "3          2023            Data Scientist       Data Science and Research   \n",
      "4          2023            Data Scientist       Data Science and Research   \n",
      "...         ...                       ...                             ...   \n",
      "9350       2021           Data Specialist    Data Management and Strategy   \n",
      "9351       2020            Data Scientist       Data Science and Research   \n",
      "9352       2021  Principal Data Scientist       Data Science and Research   \n",
      "9353       2020            Data Scientist       Data Science and Research   \n",
      "9354       2020     Business Data Analyst                   Data Analysis   \n",
      "\n",
      "     salary_currency  salary  salary_in_usd employee_residence  \\\n",
      "0                EUR   88000          95012            Germany   \n",
      "1                USD  186000         186000      United States   \n",
      "2                USD   81800          81800      United States   \n",
      "3                USD  212000         212000      United States   \n",
      "4                USD   93300          93300      United States   \n",
      "...              ...     ...            ...                ...   \n",
      "9350             USD  165000         165000      United States   \n",
      "9351             USD  412000         412000      United States   \n",
      "9352             USD  151000         151000      United States   \n",
      "9353             USD  105000         105000      United States   \n",
      "9354             USD  100000         100000      United States   \n",
      "\n",
      "     experience_level employment_type work_setting company_location  \\\n",
      "0           Mid-level       Full-time       Hybrid          Germany   \n",
      "1              Senior       Full-time    In-person    United States   \n",
      "2              Senior       Full-time    In-person    United States   \n",
      "3              Senior       Full-time    In-person    United States   \n",
      "4              Senior       Full-time    In-person    United States   \n",
      "...               ...             ...          ...              ...   \n",
      "9350           Senior       Full-time       Remote    United States   \n",
      "9351           Senior       Full-time       Remote    United States   \n",
      "9352        Mid-level       Full-time       Remote    United States   \n",
      "9353      Entry-level       Full-time       Remote    United States   \n",
      "9354      Entry-level        Contract       Remote    United States   \n",
      "\n",
      "     company_size  \n",
      "0               L  \n",
      "1               M  \n",
      "2               M  \n",
      "3               M  \n",
      "4               M  \n",
      "...           ...  \n",
      "9350            L  \n",
      "9351            L  \n",
      "9352            L  \n",
      "9353            S  \n",
      "9354            L  \n",
      "\n",
      "[9355 rows x 12 columns]\n"
     ]
    }
   ],
   "source": [
    "# reforçando o que foi aprendido - importar dados\n",
    "\n",
    "import pandas as pd\n",
    "\n",
    "df = pd.read_csv(r'C:\\Users\\luizs\\Documents\\Python\\estudos\\diario\\databases\\jobs-and-salaries-in-data-science\\jobs_in_data.csv')\n",
    "\n",
    "print(df.columns)\n",
    "\n",
    "print()\n",
    "\n",
    "print(df.head())\n",
    "\n",
    "print()\n",
    "\n",
    "print(df)"
   ]
  },
  {
   "cell_type": "code",
   "execution_count": 4,
   "metadata": {},
   "outputs": [
    {
     "name": "stdout",
     "output_type": "stream",
     "text": [
      "   work_year_unique\n",
      "0              2023\n",
      "1              2022\n",
      "2              2020\n",
      "3              2021\n"
     ]
    }
   ],
   "source": [
    "# reforçando o que foi aprendido - valores distintos\n",
    "\n",
    "work_year_unique = pd.DataFrame({'work_year_unique': df['work_year'].unique()})\n",
    "\n",
    "print(work_year_unique)"
   ]
  },
  {
   "cell_type": "code",
   "execution_count": 7,
   "metadata": {},
   "outputs": [
    {
     "name": "stdout",
     "output_type": "stream",
     "text": [
      "   work_year      salary\n",
      "0       2020     7577809\n",
      "1       2021    21531519\n",
      "2       2022   220520034\n",
      "3       2023  1152946903\n",
      "   work_year    salary\n",
      "0       2020   85000.0\n",
      "1       2021   90000.0\n",
      "2       2022  134000.0\n",
      "3       2023  147100.0\n"
     ]
    }
   ],
   "source": [
    "# reforçando o que foi aprendido - funções de agreação\n",
    "\n",
    "soma_salario_por_ano = df.groupby('work_year')['salary'].sum().reset_index()\n",
    "\n",
    "print(soma_salario_por_ano)\n",
    "\n",
    "meida_salario_por_ano = df.groupby('work_year')['salary'].median().reset_index()\n",
    "\n",
    "print(meida_salario_por_ano)"
   ]
  },
  {
   "cell_type": "code",
   "execution_count": 11,
   "metadata": {},
   "outputs": [
    {
     "data": {
      "image/png": "[encoded data removed]",
      "text/plain": [
       "<Figure size 640x480 with 2 Axes>"
      ]
     },
     "metadata": {},
     "output_type": "display_data"
    }
   ],
   "source": [
    "# reforçando o que foi aprendido - gráficos\n",
    "\n",
    "import matplotlib.pyplot as plt\n",
    "\n",
    "ax1 = plt.subplot()\n",
    "ax2 = ax1.twinx()\n",
    "\n",
    "ax1.plot(\n",
    "    soma_salario_por_ano['work_year'], soma_salario_por_ano['salary']\n",
    "    , color = 'black'\n",
    ")\n",
    "ax2.bar(\n",
    "    meida_salario_por_ano['work_year'], meida_salario_por_ano['salary']\n",
    "    , color = 'red'\n",
    ")\n",
    "plt.xlabel('work_year')\n",
    "plt.ylabel('salary')\n",
    "plt.show()"
   ]
  }
 ],
 "metadata": {
  "kernelspec": {
   "display_name": "Python 3",
   "language": "python",
   "name": "python3"
  },
  "language_info": {
   "codemirror_mode": {
    "name": "ipython",
    "version": 3
   },
   "file_extension": ".py",
   "mimetype": "text/x-python",
   "name": "python",
   "nbconvert_exporter": "python",
   "pygments_lexer": "ipython3",
   "version": "3.9.6"
  }
 },
 "nbformat": 4,
 "nbformat_minor": 2
}
