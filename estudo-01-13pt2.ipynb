{
 "cells": [
  {
   "cell_type": "code",
   "execution_count": null,
   "metadata": {},
   "outputs": [],
   "source": [
    "import numpy as np # linear algebra\n",
    "import pandas as pd # data processing\n",
    "\n",
    "train_data = pd.read_csv(\"../datasets/train.csv\")\n",
    "print('train_data:')\n",
    "print(train_data.head().to_markdown())\n",
    "print(train_data.shape)\n",
    "\n",
    "print('\\n\\n')\n",
    "\n",
    "test_data = pd.read_csv(\"../datasets/test.csv\")\n",
    "print('test_data:')\n",
    "print(test_data.head().to_markdown())\n",
    "print(test_data.shape)\n",
    "\n",
    "print('\\n\\n')\n",
    "\n",
    "gender_submission = pd.read_csv(\"../datasets/gender_submission.csv\")\n",
    "print('gender_submission:')\n",
    "print(gender_submission.head().to_markdown())\n",
    "print(gender_submission.shape)"
   ]
  },
  {
   "cell_type": "code",
   "execution_count": null,
   "metadata": {},
   "outputs": [],
   "source": [
    "# surviving rate by gender\n",
    "\n",
    "women = train_data.loc[train_data.Sex == 'female'][\"Survived\"]\n",
    "rate_women = sum(women)/len(women)\n",
    "\n",
    "print(\"% of women who survived:\", rate_women)\n",
    "\n",
    "print('\\n')\n",
    "\n",
    "men = train_data.loc[train_data.Sex == 'male'][\"Survived\"]\n",
    "rate_men = sum(men)/len(men)\n",
    "\n",
    "print(\"% of men who survived:\", rate_men)"
   ]
  },
  {
   "cell_type": "code",
   "execution_count": null,
   "metadata": {},
   "outputs": [],
   "source": [
    "from sklearn.ensemble import RandomForestClassifier\n",
    "\n",
    "y = train_data[\"Survived\"]\n",
    "\n",
    "features = [\"Pclass\", \"Sex\", \"SibSp\", \"Parch\"]\n",
    "X = pd.get_dummies(train_data[features])\n",
    "X_test = pd.get_dummies(test_data[features])\n",
    "\n",
    "# training the model\n",
    "model = RandomForestClassifier(n_estimators=100, max_depth=5, random_state=1)\n",
    "model.fit(X,y)\n",
    "\n",
    "# making predictions\n",
    "predictions = model.predict(X_test)\n",
    "y_pred = pd.Series(predictions)\n",
    "y_test = gender_submission[\"Survived\"]\n",
    "\n",
    "output = pd.DataFrame({'PassengerId': test_data.PassengerId, 'Survived': predictions})\n",
    "output.to_csv('submission.csv', index=False)\n",
    "print(\"Submission successfully saved\")"
   ]
  },
  {
   "cell_type": "code",
   "execution_count": null,
   "metadata": {},
   "outputs": [],
   "source": [
    "from sklearn.metrics import accuracy_score, classification_report, confusion_matrix\n",
    "from sklearn.model_selection import cross_val_score\n",
    "\n",
    "# accuracy\n",
    "accuracy = accuracy_score(y_test, y_pred)\n",
    "print(f'accuracy: {accuracy: .2f}')\n",
    "\n",
    "# classification report\n",
    "classification_report = classification_report(y_test, y_pred)\n",
    "print('classification report:')\n",
    "print(classification_report)\n",
    "\n",
    "# cross-validation\n",
    "scores = cross_val_score(model, X, y, cv=5)\n",
    "print('cross-validation acuracy:')\n",
    "print(scores)\n",
    "\n",
    "# confusion matrix\n",
    "import seaborn as sns\n",
    "import matplotlib.pyplot as plt\n",
    "\n",
    "confusion_matrix = confusion_matrix(y_test, y_pred)\n",
    "confusion_matrix_df = pd.DataFrame(confusion_matrix, index=['Acctual not-sruvived', 'Acctual survived'], columns=['Predicted not-survived', 'Predicted survived'])\n",
    "plt.figure(figsize=(8, 6))\n",
    "sns.heatmap(confusion_matrix_df, annot=True, fmt='d', cmap='Blues')\n",
    "plt.title('confusion_matrix')\n",
    "plt.show()"
   ]
  }
 ],
 "metadata": {
  "language_info": {
   "name": "python"
  }
 },
 "nbformat": 4,
 "nbformat_minor": 2
}
